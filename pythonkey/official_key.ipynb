{
 "cells": [
  {
   "cell_type": "code",
   "execution_count": 3,
   "metadata": {},
   "outputs": [],
   "source": [
    "from Crypto.PublicKey import RSA\n",
    "from Crypto.Hash import SHA256\n",
    "from Crypto.Signature import PKCS1_v1_5\n",
    "import codecs"
   ]
  },
  {
   "cell_type": "code",
   "execution_count": null,
   "metadata": {},
   "outputs": [],
   "source": []
  },
  {
   "cell_type": "code",
   "execution_count": 120,
   "metadata": {},
   "outputs": [
    {
     "name": "stdout",
     "output_type": "stream",
     "text": [
      "True\n"
     ]
    }
   ],
   "source": [
    "def create_private_key():\n",
    "    return RSA.generate(1024).export_key()\n",
    "\n",
    "def create_public_key(private_key):\n",
    "    return RSA.import_key(private_key).public_key().export_key()\n",
    "\n",
    "def create_transaction(private_key, message):\n",
    "    private_key = RSA.import_key(private_key)\n",
    "    message = message.encode('utf-8')\n",
    "    hashe = SHA256.new(message)\n",
    "    \n",
    "    signer = PKCS1_v1_5.new(private_key)\n",
    "    signature = signer.sign(hashe)\n",
    "    \n",
    "    return signature\n",
    "\n",
    "def verify_signature(public_key, message, signature):\n",
    "    public_key = RSA.import_key(public_key)\n",
    "    signer = PKCS1_v1_5.new(public_key)\n",
    "    \n",
    "    message = message.encode('utf-8')\n",
    "    hashe = SHA256.new(message)\n",
    "    \n",
    "    return signer.verify(hashe, signature)\n",
    "\n",
    "\n",
    "private_key = create_private_key()\n",
    "public_key = create_public_key(private_key)\n",
    "\n",
    "\n",
    "\n",
    "message = \"HELLO World\"\n",
    "\n",
    "signature = create_transaction(private_key, message)\n",
    "\n",
    "\n",
    "print(verify_signature(public_key, message, signature))\n",
    "\n",
    "\n"
   ]
  }
 ],
 "metadata": {
  "kernelspec": {
   "display_name": "Python 3",
   "language": "python",
   "name": "python3"
  },
  "language_info": {
   "codemirror_mode": {
    "name": "ipython",
    "version": 3
   },
   "file_extension": ".py",
   "mimetype": "text/x-python",
   "name": "python",
   "nbconvert_exporter": "python",
   "pygments_lexer": "ipython3",
   "version": "3.8.2"
  }
 },
 "nbformat": 4,
 "nbformat_minor": 4
}
