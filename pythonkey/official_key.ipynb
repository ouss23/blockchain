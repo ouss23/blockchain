{
 "cells": [
  {
   "cell_type": "code",
   "execution_count": 3,
   "metadata": {},
   "outputs": [],
   "source": [
    "from Crypto.PublicKey import RSA\n",
    "from Crypto.Hash import SHA256\n",
    "from Crypto.Signature import PKCS1_v1_5\n",
    "import codecs"
   ]
  },
  {
   "cell_type": "code",
   "execution_count": null,
   "metadata": {},
   "outputs": [],
   "source": []
  },
  {
   "cell_type": "code",
   "execution_count": 43,
   "metadata": {},
   "outputs": [
    {
     "name": "stdout",
     "output_type": "stream",
     "text": [
      "True\n"
     ]
    }
   ],
   "source": [
    "def create_private_key():\n",
    "    return RSA.generate(1024).export_key()\n",
    "\n",
    "def create_public_key(private_key):\n",
    "    return RSA.import_key(private_key).public_key().export_key()\n",
    "\n",
    "def create_transaction(private_key, message):\n",
    "    private_key = RSA.import_key(private_key)\n",
    "    message = message.encode('utf-8')\n",
    "    hashe = SHA256.new(message)\n",
    "    \n",
    "    signer = PKCS1_v1_5.new(private_key)\n",
    "    signature = signer.sign(hashe)\n",
    "    \n",
    "    return signature\n",
    "\n",
    "def verify_signature(public_key, message, signature):\n",
    "    public_key = RSA.import_key(public_key)\n",
    "    signer = PKCS1_v1_5.new(public_key)\n",
    "    \n",
    "    message = message.encode('utf-8')\n",
    "    hashe = SHA256.new(message)\n",
    "    \n",
    "    return signer.verify(hashe, signature)\n",
    "\n",
    "\n",
    "private_key = create_private_key()\n",
    "public_key = create_public_key(private_key)\n",
    "\n",
    "\n",
    "\n",
    "message = \"HELLO World\"\n",
    "\n",
    "signature = create_transaction(private_key, message)\n",
    "\n",
    "\n",
    "print(verify_signature(public_key, message, signature))\n",
    "\n",
    "\n"
   ]
  },
  {
   "cell_type": "code",
   "execution_count": 25,
   "metadata": {},
   "outputs": [
    {
     "name": "stdout",
     "output_type": "stream",
     "text": [
      "b\"YkL\\xf4\\x86\\xb7\\x92)\\xac\\x9e\\xbc\\xba\\xe7\\xf4\\x81I'H\\xa5\\xc3\\xde\\r\\xd4\\x1d'\\x8b\\x03\\xce\\x07\\x1b\\xe9P\\xed\\xb81\\xbe\\x1b\\x1c\\x185\\x89\\\\\\xf0\\xf3\\t\\x13\\xd3rD\\x18\\xb9\\xab\\xb7\\xf5\\xa6\\xeb*\\xcb\\xff\\x9b\\x9c\\x12}\\xe22\\x9d\\x1c\\xcc*1\\xa5\\xd9<\\xb3.\\xa8H\\xee|\\x13\\xdc\\x80\\xca%Yqt-\\xb1\\xb6\\xd12\\xa4\\xf2\\xca\\x98\\xc1i)\\x05\\xc2F\\xa4\\x86\\x10\\x91\\xaf\\xa8\\xf0-\\x02F\\x18o\\x98\\x1a\\xe4\\xe5_'\\xcf\\x83\\x8dn\\x96r\\x04\\xff\"\n"
     ]
    },
    {
     "data": {
      "text/plain": [
       "b\"YkL\\xf4\\x86\\xb7\\x92)\\xac\\x9e\\xbc\\xba\\xe7\\xf4\\x81I'H\\xa5\\xc3\\xde\\r\\xd4\\x1d'\\x8b\\x03\\xce\\x07\\x1b\\xe9P\\xed\\xb81\\xbe\\x1b\\x1c\\x185\\x89\\\\\\xf0\\xf3\\t\\x13\\xd3rD\\x18\\xb9\\xab\\xb7\\xf5\\xa6\\xeb*\\xcb\\xff\\x9b\\x9c\\x12}\\xe22\\x9d\\x1c\\xcc*1\\xa5\\xd9<\\xb3.\\xa8H\\xee|\\x13\\xdc\\x80\\xca%Yqt-\\xb1\\xb6\\xd12\\xa4\\xf2\\xca\\x98\\xc1i)\\x05\\xc2F\\xa4\\x86\\x10\\x91\\xaf\\xa8\\xf0-\\x02F\\x18o\\x98\\x1a\\xe4\\xe5_'\\xcf\\x83\\x8dn\\x96r\\x04\\xff\""
      ]
     },
     "execution_count": 25,
     "metadata": {},
     "output_type": "execute_result"
    }
   ],
   "source": [
    "print(str(signature))\n",
    "b\"YkL\\xf4\\x86\\xb7\\x92)\\xac\\x9e\\xbc\\xba\\xe7\\xf4\\x81I'H\\xa5\\xc3\\xde\\r\\xd4\\x1d'\\x8b\\x03\\xce\\x07\\x1b\\xe9P\\xed\\xb81\\xbe\\x1b\\x1c\\x185\\x89\\\\\\xf0\\xf3\\t\\x13\\xd3rD\\x18\\xb9\\xab\\xb7\\xf5\\xa6\\xeb*\\xcb\\xff\\x9b\\x9c\\x12}\\xe22\\x9d\\x1c\\xcc*1\\xa5\\xd9<\\xb3.\\xa8H\\xee|\\x13\\xdc\\x80\\xca%Yqt-\\xb1\\xb6\\xd12\\xa4\\xf2\\xca\\x98\\xc1i)\\x05\\xc2F\\xa4\\x86\\x10\\x91\\xaf\\xa8\\xf0-\\x02F\\x18o\\x98\\x1a\\xe4\\xe5_'\\xcf\\x83\\x8dn\\x96r\\x04\\xff\"\n"
   ]
  },
  {
   "cell_type": "code",
   "execution_count": 26,
   "metadata": {},
   "outputs": [
    {
     "data": {
      "text/plain": [
       "b\"YkL\\xf4\\x86\\xb7\\x92)\\xac\\x9e\\xbc\\xba\\xe7\\xf4\\x81I'H\\xa5\\xc3\\xde\\r\\xd4\\x1d'\\x8b\\x03\\xce\\x07\\x1b\\xe9P\\xed\\xb81\\xbe\\x1b\\x1c\\x185\\x89\\\\\\xf0\\xf3\\t\\x13\\xd3rD\\x18\\xb9\\xab\\xb7\\xf5\\xa6\\xeb*\\xcb\\xff\\x9b\\x9c\\x12}\\xe22\\x9d\\x1c\\xcc*1\\xa5\\xd9<\\xb3.\\xa8H\\xee|\\x13\\xdc\\x80\\xca%Yqt-\\xb1\\xb6\\xd12\\xa4\\xf2\\xca\\x98\\xc1i)\\x05\\xc2F\\xa4\\x86\\x10\\x91\\xaf\\xa8\\xf0-\\x02F\\x18o\\x98\\x1a\\xe4\\xe5_'\\xcf\\x83\\x8dn\\x96r\\x04\\xff\""
      ]
     },
     "execution_count": 26,
     "metadata": {},
     "output_type": "execute_result"
    }
   ],
   "source": [
    "b\"YkL\\xf4\\x86\\xb7\\x92)\\xac\\x9e\\xbc\\xba\\xe7\\xf4\\x81I'H\\xa5\\xc3\\xde\\r\\xd4\\x1d'\\x8b\\x03\\xce\\x07\\x1b\\xe9P\\xed\\xb81\\xbe\\x1b\\x1c\\x185\\x89\\\\\\xf0\\xf3\\t\\x13\\xd3rD\\x18\\xb9\\xab\\xb7\\xf5\\xa6\\xeb*\\xcb\\xff\\x9b\\x9c\\x12}\\xe22\\x9d\\x1c\\xcc*1\\xa5\\xd9<\\xb3.\\xa8H\\xee|\\x13\\xdc\\x80\\xca%Yqt-\\xb1\\xb6\\xd12\\xa4\\xf2\\xca\\x98\\xc1i)\\x05\\xc2F\\xa4\\x86\\x10\\x91\\xaf\\xa8\\xf0-\\x02F\\x18o\\x98\\x1a\\xe4\\xe5_'\\xcf\\x83\\x8dn\\x96r\\x04\\xff\"\n"
   ]
  },
  {
   "cell_type": "code",
   "execution_count": 60,
   "metadata": {},
   "outputs": [
    {
     "data": {
      "text/plain": [
       "b\"\\x9a+,\\xa5\\x96\\xd6\\r\\r6\\xdc\\xfb\\xa6K\\x81\\x0e\\xe7\\xe1\\xc0\\xa5\\xablM\\t\\xceSI=ea\\x0c\\xb0'dO=\\xe6\\xa4no\\xb0-F\\xa6\\xb0\\xf0\\x9c-\\x89\\x8c\\xf5H\\xb2\\xe2\\xc9B\\x84\\xf4\\xd3,\\\\\\x91f\\x1d\\x17`!|\\x97G\\xe4a\\xef\\x83|\\xf0#\\x96D*.\\x08\\xdaW\\xfa\\xbeE\\xc2_)\\xc0\\xd4\\xd3\\xa3\\xbb\\x80pIJy\\x9e\\xdb\\x7f\\x18\\xb9>\\xc7\\x85z\\x80\\xb8\\x1e\\n\\x92,\\xed\\xb3\\nj\\x97\\t\\xd6}\\xd3\\xe5\\xa0\\xdb\\xe2\\xd5\""
      ]
     },
     "execution_count": 60,
     "metadata": {},
     "output_type": "execute_result"
    }
   ],
   "source": [
    "signature"
   ]
  },
  {
   "cell_type": "code",
   "execution_count": 65,
   "metadata": {},
   "outputs": [],
   "source": [
    "a = \"b\\\"\" + str(signature)[2:-1] +\"\\\"\""
   ]
  },
  {
   "cell_type": "code",
   "execution_count": 67,
   "metadata": {},
   "outputs": [
    {
     "data": {
      "text/plain": [
       "b'b\"\\\\x9a+,\\\\xa5\\\\x96\\\\xd6\\\\r\\\\r6\\\\xdc\\\\xfb\\\\xa6K\\\\x81\\\\x0e\\\\xe7\\\\xe1\\\\xc0\\\\xa5\\\\xablM\\\\t\\\\xceSI=ea\\\\x0c\\\\xb0\\'dO=\\\\xe6\\\\xa4no\\\\xb0-F\\\\xa6\\\\xb0\\\\xf0\\\\x9c-\\\\x89\\\\x8c\\\\xf5H\\\\xb2\\\\xe2\\\\xc9B\\\\x84\\\\xf4\\\\xd3,\\\\\\\\\\\\x91f\\\\x1d\\\\x17`!|\\\\x97G\\\\xe4a\\\\xef\\\\x83|\\\\xf0#\\\\x96D*.\\\\x08\\\\xdaW\\\\xfa\\\\xbeE\\\\xc2_)\\\\xc0\\\\xd4\\\\xd3\\\\xa3\\\\xbb\\\\x80pIJy\\\\x9e\\\\xdb\\\\x7f\\\\x18\\\\xb9>\\\\xc7\\\\x85z\\\\x80\\\\xb8\\\\x1e\\\\n\\\\x92,\\\\xed\\\\xb3\\\\nj\\\\x97\\\\t\\\\xd6}\\\\xd3\\\\xe5\\\\xa0\\\\xdb\\\\xe2\\\\xd5\"'"
      ]
     },
     "execution_count": 67,
     "metadata": {},
     "output_type": "execute_result"
    }
   ],
   "source": [
    "a.encode(\"utf-8\")"
   ]
  },
  {
   "cell_type": "code",
   "execution_count": null,
   "metadata": {},
   "outputs": [],
   "source": []
  }
 ],
 "metadata": {
  "kernelspec": {
   "display_name": "Python 3",
   "language": "python",
   "name": "python3"
  },
  "language_info": {
   "codemirror_mode": {
    "name": "ipython",
    "version": 3
   },
   "file_extension": ".py",
   "mimetype": "text/x-python",
   "name": "python",
   "nbconvert_exporter": "python",
   "pygments_lexer": "ipython3",
   "version": "3.8.2"
  }
 },
 "nbformat": 4,
 "nbformat_minor": 4
}
